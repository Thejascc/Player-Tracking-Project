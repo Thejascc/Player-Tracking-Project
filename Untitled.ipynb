{
 "cells": [
  {
   "cell_type": "code",
   "execution_count": 1,
   "id": "40ff67da-072e-49ee-8c0b-082e38ecac63",
   "metadata": {},
   "outputs": [],
   "source": [
    "from ultralytics import YOLO\n",
    "from deep_sort_realtime.deepsort_tracker import DeepSort\n",
    "import cv2\n",
    "import numpy as np\n",
    "from collections import defaultdict"
   ]
  },
  {
   "cell_type": "code",
   "execution_count": 2,
   "id": "80b0a51f-1b34-43e5-a882-961dbc8247e2",
   "metadata": {},
   "outputs": [],
   "source": [
    "VIDEO_PATH = \"F:/Player-Reidentification/15sec_input_720p.mp4\"\n",
    "OUTPUT_PATH = \"output.mp4\"\n",
    "MODEL_PATH = \"best.pt\"  \n",
    "TRACK_CLASSES = [2]     \n",
    "CONFIDENCE_THRESHOLD = 0.5\n",
    "IOU_THRESHOLD = 0.5\n",
    "MAX_TRAIL_POINTS = 10\n",
    "RESET_JUMP_THRESHOLD = 100"
   ]
  },
  {
   "cell_type": "code",
   "execution_count": 3,
   "id": "9c451e57-cdcb-4ba8-afa7-e74a736679be",
   "metadata": {},
   "outputs": [],
   "source": [
    "model = YOLO(MODEL_PATH)"
   ]
  },
  {
   "cell_type": "code",
   "execution_count": 4,
   "id": "a9b8d482-656c-4c9a-b9db-35216142a098",
   "metadata": {},
   "outputs": [
    {
     "name": "stderr",
     "output_type": "stream",
     "text": [
      "C:\\Users\\theja\\myenv2\\Lib\\site-packages\\deep_sort_realtime\\embedder\\embedder_pytorch.py:6: UserWarning: pkg_resources is deprecated as an API. See https://setuptools.pypa.io/en/latest/pkg_resources.html. The pkg_resources package is slated for removal as early as 2025-11-30. Refrain from using this package or pin to Setuptools<81.\n",
      "  import pkg_resources\n"
     ]
    }
   ],
   "source": [
    "tracker = DeepSort(max_age=15, n_init=5, nms_max_overlap=1.0)\n",
    "trajectories = defaultdict(list)"
   ]
  },
  {
   "cell_type": "code",
   "execution_count": 5,
   "id": "a70ccb85-2533-4e32-adcd-6a89a0671484",
   "metadata": {},
   "outputs": [],
   "source": [
    "cap = cv2.VideoCapture(VIDEO_PATH)\n",
    "width, height = int(cap.get(cv2.CAP_PROP_FRAME_WIDTH)), int(cap.get(cv2.CAP_PROP_FRAME_HEIGHT))\n",
    "fps = int(cap.get(cv2.CAP_PROP_FPS))\n"
   ]
  },
  {
   "cell_type": "code",
   "execution_count": 6,
   "id": "e87fcd7b-a05d-4832-843f-77a7e75e3d05",
   "metadata": {},
   "outputs": [],
   "source": [
    "out = cv2.VideoWriter(\"output.avi\", cv2.VideoWriter_fourcc(*'XVID'), fps, (width, height))\n"
   ]
  },
  {
   "cell_type": "code",
   "execution_count": 7,
   "id": "c19430f4-269f-448d-9191-c95027f3c4bc",
   "metadata": {},
   "outputs": [],
   "source": [
    "def extract_jersey_color(frame, box):\n",
    "    x1, y1, x2, y2 = [int(coord) for coord in box]\n",
    "    player_crop = frame[y1:y2, x1:x2]\n",
    "    if player_crop.size == 0:\n",
    "        return (0, 0, 0)\n",
    "    avg_color = cv2.mean(player_crop)[:3]\n",
    "    return tuple(map(int, avg_color))"
   ]
  },
  {
   "cell_type": "code",
   "execution_count": 8,
   "id": "ec386f5b-4342-471c-9ea3-0eb168ad8415",
   "metadata": {},
   "outputs": [],
   "source": [
    "def extract_dominant_color(img):\n",
    "    if img.size == 0:\n",
    "        return (0, 0, 0)\n",
    "    img = cv2.resize(img, (20, 20))\n",
    "    avg_color = np.mean(img, axis=(0, 1))\n",
    "    return tuple(map(int, avg_color))  # (B, G, R)\n",
    "\n",
    "def assign_team_and_color(color_bgr):\n",
    "    b, g, r = color_bgr\n",
    "\n",
    "    if r > 130 and g < 120 and b < 120:\n",
    "        return \"Team Red\", (0, 0, 255)\n",
    "    elif b > 130 and r < 120 and g < 120:\n",
    "        return \"Team Blue\", (255, 0, 0)\n",
    "    elif g > 130 and r < 120 and b < 120:\n",
    "        return \"Team Green\", (0, 255, 0)\n",
    "    elif r > 130 and g > 130 and b < 100:\n",
    "        return \"Team Yellow\", (0, 255, 255)\n",
    "    else:\n",
    "        return \"Unknown\", (200, 200, 200)\n",
    "\n"
   ]
  },
  {
   "cell_type": "code",
   "execution_count": 9,
   "id": "959bff3a-22ae-4f08-b287-b545dddb75a9",
   "metadata": {},
   "outputs": [
    {
     "name": "stdout",
     "output_type": "stream",
     "text": [
      "📹 Video Opened: True\n"
     ]
    }
   ],
   "source": [
    "\n",
    "print(\"📹 Video Opened:\", cap.isOpened())  \n"
   ]
  },
  {
   "cell_type": "code",
   "execution_count": 10,
   "id": "d03824fe-351d-4a08-af61-33b81fe86bae",
   "metadata": {},
   "outputs": [
    {
     "name": "stdout",
     "output_type": "stream",
     "text": [
      "✅ Tracking complete. Video saved as: output.mp4\n"
     ]
    }
   ],
   "source": [
    "frame_num = 0\n",
    "\n",
    "while True:\n",
    "    ret, frame = cap.read()\n",
    "    if not ret:\n",
    "        break\n",
    "\n",
    "    frame = cv2.resize(frame, (width, height))\n",
    "    frame_num += 1\n",
    "    timestamp = frame_num / fps\n",
    "\n",
    "    # Detection\n",
    "    results = model.predict(source=frame, conf=CONFIDENCE_THRESHOLD, iou=IOU_THRESHOLD, verbose=False)[0]\n",
    "    detections = []\n",
    "\n",
    "    for result in results.boxes.data.tolist():\n",
    "        x1, y1, x2, y2, conf, cls = result\n",
    "        cls = int(cls)\n",
    "        if cls not in TRACK_CLASSES:\n",
    "            continue\n",
    "        bbox = [x1, y1, x2 - x1, y2 - y1]\n",
    "        detections.append([bbox, conf, \"player\"])\n",
    "\n",
    "    \n",
    "    tracks = tracker.update_tracks(detections, frame=frame)\n",
    "\n",
    "    for track in tracks:\n",
    "        if not track.is_confirmed():\n",
    "            continue\n",
    "\n",
    "        track_id = track.track_id\n",
    "        l, t, r, b = map(int, track.to_ltrb())\n",
    "        center = ((l + r) // 2, (t + b) // 2)\n",
    "\n",
    "        \n",
    "        if trajectories[track_id]:\n",
    "            prev_x, prev_y = trajectories[track_id][-1]\n",
    "            if abs(center[0] - prev_x) > RESET_JUMP_THRESHOLD or abs(center[1] - prev_y) > RESET_JUMP_THRESHOLD:\n",
    "                trajectories[track_id] = []\n",
    "\n",
    "        trajectories[track_id].append(center)\n",
    "\n",
    "       \n",
    "        cv2.rectangle(frame, (l, t), (r, b), (0, 255, 0), 2)\n",
    "        cv2.putText(frame, f\"Player {track_id}\", (l, t - 10), cv2.FONT_HERSHEY_SIMPLEX, 0.6, (255, 255, 255), 2)\n",
    "\n",
    "        jersey_color = extract_jersey_color(frame, (l, t, r, b))\n",
    "        cv2.rectangle(frame, (l, b), (l + 20, b + 20), jersey_color, -1)\n",
    "\n",
    "        trail = trajectories[track_id][-MAX_TRAIL_POINTS:]\n",
    "        for i in range(1, len(trail)):\n",
    "            if trail[i - 1] and trail[i]:\n",
    "                cv2.line(frame, trail[i - 1], trail[i], (0, 0, 255), 2)\n",
    "\n",
    "    \n",
    "    minutes = int(timestamp) // 60\n",
    "    seconds = int(timestamp) % 60\n",
    "    cv2.putText(frame, f\"Time: {minutes:02d}:{seconds:02d}\", (20, 40), cv2.FONT_HERSHEY_SIMPLEX, 1.0, (0, 255, 255), 2)\n",
    "\n",
    "    \n",
    "    out.write(frame)\n",
    "\n",
    "    \n",
    "    if cv2.waitKey(1) & 0xFF == ord(\"q\"):\n",
    "        break\n",
    "\n",
    "cap.release()\n",
    "out.release()\n",
    "cv2.destroyAllWindows()\n",
    "print(\"✅ Tracking complete. Video saved as:\", OUTPUT_PATH)\n"
   ]
  },
  {
   "cell_type": "code",
   "execution_count": 11,
   "id": "1a8943dc-b18a-4a33-bd20-507f51fca48d",
   "metadata": {},
   "outputs": [
    {
     "data": {
      "text/html": [
       "<a href='output.mp4' target='_blank'>output.mp4</a><br>"
      ],
      "text/plain": [
       "F:\\Player-Reidentification\\output.mp4"
      ]
     },
     "execution_count": 11,
     "metadata": {},
     "output_type": "execute_result"
    }
   ],
   "source": [
    "from IPython.display import FileLink\n",
    "\n",
    "\n",
    "output_path = \"output.mp4\"\n",
    "FileLink(output_path)\n",
    "# Downloaded video will be in the project file"
   ]
  },
  {
   "cell_type": "code",
   "execution_count": null,
   "id": "71185349-c6ce-4bd4-9c3c-e995fe21052d",
   "metadata": {},
   "outputs": [],
   "source": []
  }
 ],
 "metadata": {
  "kernelspec": {
   "display_name": "Python (myenv2)",
   "language": "python",
   "name": "myenv"
  },
  "language_info": {
   "codemirror_mode": {
    "name": "ipython",
    "version": 3
   },
   "file_extension": ".py",
   "mimetype": "text/x-python",
   "name": "python",
   "nbconvert_exporter": "python",
   "pygments_lexer": "ipython3",
   "version": "3.12.0"
  }
 },
 "nbformat": 4,
 "nbformat_minor": 5
}
